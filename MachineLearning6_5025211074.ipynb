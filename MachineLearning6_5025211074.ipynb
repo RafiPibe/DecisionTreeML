{
  "nbformat": 4,
  "nbformat_minor": 0,
  "metadata": {
    "colab": {
      "provenance": [],
      "authorship_tag": "ABX9TyNwR6HJv2WHwAEomVqPTYKJ",
      "include_colab_link": true
    },
    "kernelspec": {
      "name": "python3",
      "display_name": "Python 3"
    },
    "language_info": {
      "name": "python"
    }
  },
  "cells": [
    {
      "cell_type": "markdown",
      "metadata": {
        "id": "view-in-github",
        "colab_type": "text"
      },
      "source": [
        "<a href=\"https://colab.research.google.com/github/RafiPibe/DecisionTreeML/blob/master/MachineLearning6_5025211074.ipynb\" target=\"_parent\"><img src=\"https://colab.research.google.com/assets/colab-badge.svg\" alt=\"Open In Colab\"/></a>"
      ]
    },
    {
      "cell_type": "code",
      "execution_count": 2,
      "metadata": {
        "colab": {
          "base_uri": "https://localhost:8080/"
        },
        "id": "_wD9qpWDCFcm",
        "outputId": "6750d0f5-fa89-4d6a-cfb3-7e4a4fbed0df"
      },
      "outputs": [
        {
          "output_type": "stream",
          "name": "stdout",
          "text": [
            "Collecting ucimlrepo\n",
            "  Downloading ucimlrepo-0.0.2-py3-none-any.whl (7.0 kB)\n",
            "Installing collected packages: ucimlrepo\n",
            "Successfully installed ucimlrepo-0.0.2\n"
          ]
        }
      ],
      "source": [
        "pip install ucimlrepo"
      ]
    },
    {
      "cell_type": "code",
      "source": [
        "# Surpress warnings:\n",
        "def warn(*args, **kwargs):\n",
        "    pass\n",
        "import warnings\n",
        "warnings.warn = warn\n",
        "\n",
        "import numpy as np\n",
        "import pandas as pd\n",
        "import requests\n",
        "import zipfile\n",
        "from sklearn.cluster import KMeans\n",
        "from sklearn.preprocessing import StandardScaler\n",
        "import matplotlib.pyplot as plt"
      ],
      "metadata": {
        "id": "DBFOfTGB9v56"
      },
      "execution_count": 7,
      "outputs": []
    },
    {
      "cell_type": "code",
      "source": [
        "from ucimlrepo import fetch_ucirepo\n",
        "\n",
        "# fetch dataset\n",
        "wineQuality = fetch_ucirepo(id=186)\n",
        "\n",
        "# data (as pandas dataframes)\n",
        "X = wineQuality.data.features\n",
        "y = wineQuality.data.targets\n",
        "\n",
        "# metadata\n",
        "print(wineQuality.metadata)\n",
        "\n",
        "# variable information\n",
        "print(wineQuality.variables)\n"
      ],
      "metadata": {
        "colab": {
          "base_uri": "https://localhost:8080/"
        },
        "id": "TlI5SnfRCqRX",
        "outputId": "f2aec185-eff6-4b9a-a82b-ce81f1a89ad0"
      },
      "execution_count": 8,
      "outputs": [
        {
          "output_type": "stream",
          "name": "stdout",
          "text": [
            "{'uci_id': 186, 'name': 'Wine Quality', 'repository_url': 'https://archive.ics.uci.edu/dataset/186/wine+quality', 'data_url': 'https://archive.ics.uci.edu/static/public/186/data.csv', 'abstract': 'Two datasets are included, related to red and white vinho verde wine samples, from the north of Portugal. The goal is to model wine quality based on physicochemical tests (see [Cortez et al., 2009], http://www3.dsi.uminho.pt/pcortez/wine/).', 'area': 'Business', 'tasks': ['Classification', 'Regression'], 'characteristics': ['Multivariate'], 'num_instances': 4898, 'num_features': 11, 'feature_types': ['Real'], 'demographics': [], 'target_col': ['quality'], 'index_col': None, 'has_missing_values': 'no', 'missing_values_symbol': None, 'year_of_dataset_creation': 2009, 'last_updated': 'Thu Aug 10 2023', 'dataset_doi': '10.24432/C56S3T', 'creators': ['Paulo Cortez', 'A. Cerdeira', 'F. Almeida', 'T. Matos', 'J. Reis'], 'intro_paper': {'title': 'Modeling wine preferences by data mining from physicochemical properties', 'authors': 'P. Cortez, A. Cerdeira, Fernando Almeida, Telmo Matos, J. Reis', 'published_in': 'Decision Support Systems', 'year': 2009, 'url': 'https://www.semanticscholar.org/paper/Modeling-wine-preferences-by-data-mining-from-Cortez-Cerdeira/bf15a0ccc14ac1deb5cea570c870389c16be019c', 'doi': None}, 'additional_info': {'summary': 'The two datasets are related to red and white variants of the Portuguese \"Vinho Verde\" wine. For more details, consult: http://www.vinhoverde.pt/en/ or the reference [Cortez et al., 2009].  Due to privacy and logistic issues, only physicochemical (inputs) and sensory (the output) variables are available (e.g. there is no data about grape types, wine brand, wine selling price, etc.).\\n\\nThese datasets can be viewed as classification or regression tasks.  The classes are ordered and not balanced (e.g. there are many more normal wines than excellent or poor ones). Outlier detection algorithms could be used to detect the few excellent or poor wines. Also, we are not sure if all input variables are relevant. So it could be interesting to test feature selection methods.\\n', 'purpose': None, 'funded_by': None, 'instances_represent': None, 'recommended_data_splits': None, 'sensitive_data': None, 'preprocessing_description': None, 'variable_info': 'For more information, read [Cortez et al., 2009].\\r\\nInput variables (based on physicochemical tests):\\r\\n   1 - fixed acidity\\r\\n   2 - volatile acidity\\r\\n   3 - citric acid\\r\\n   4 - residual sugar\\r\\n   5 - chlorides\\r\\n   6 - free sulfur dioxide\\r\\n   7 - total sulfur dioxide\\r\\n   8 - density\\r\\n   9 - pH\\r\\n   10 - sulphates\\r\\n   11 - alcohol\\r\\nOutput variable (based on sensory data): \\r\\n   12 - quality (score between 0 and 10)', 'citation': None}}\n",
            "                    name     role        type demographic  \\\n",
            "0          fixed_acidity  Feature  Continuous        None   \n",
            "1       volatile_acidity  Feature  Continuous        None   \n",
            "2            citric_acid  Feature  Continuous        None   \n",
            "3         residual_sugar  Feature  Continuous        None   \n",
            "4              chlorides  Feature  Continuous        None   \n",
            "5    free_sulfur_dioxide  Feature  Continuous        None   \n",
            "6   total_sulfur_dioxide  Feature  Continuous        None   \n",
            "7                density  Feature  Continuous        None   \n",
            "8                     pH  Feature  Continuous        None   \n",
            "9              sulphates  Feature  Continuous        None   \n",
            "10               alcohol  Feature  Continuous        None   \n",
            "11               quality   Target     Integer        None   \n",
            "\n",
            "               description units missing_values  \n",
            "0                     None  None             no  \n",
            "1                     None  None             no  \n",
            "2                     None  None             no  \n",
            "3                     None  None             no  \n",
            "4                     None  None             no  \n",
            "5                     None  None             no  \n",
            "6                     None  None             no  \n",
            "7                     None  None             no  \n",
            "8                     None  None             no  \n",
            "9                     None  None             no  \n",
            "10                    None  None             no  \n",
            "11  score between 0 and 10  None             no  \n"
          ]
        }
      ]
    },
    {
      "cell_type": "code",
      "source": [
        "X.dtypes"
      ],
      "metadata": {
        "colab": {
          "base_uri": "https://localhost:8080/"
        },
        "id": "sAGQG76ICz1S",
        "outputId": "1c127f8c-39f1-4ccf-959c-98afb2f0135f"
      },
      "execution_count": 9,
      "outputs": [
        {
          "output_type": "execute_result",
          "data": {
            "text/plain": [
              "fixed_acidity           float64\n",
              "volatile_acidity        float64\n",
              "citric_acid             float64\n",
              "residual_sugar          float64\n",
              "chlorides               float64\n",
              "free_sulfur_dioxide     float64\n",
              "total_sulfur_dioxide    float64\n",
              "density                 float64\n",
              "pH                      float64\n",
              "sulphates               float64\n",
              "alcohol                 float64\n",
              "dtype: object"
            ]
          },
          "metadata": {},
          "execution_count": 9
        }
      ]
    },
    {
      "cell_type": "code",
      "source": [
        "from sklearn.preprocessing import LabelEncoder\n",
        "le = LabelEncoder()\n",
        "X['fixed_acidity'] = le.fit_transform(X['fixed_acidity'])\n",
        "X['volatile_acidity'] = le.fit_transform(X['volatile_acidity'])\n",
        "X['citric_acid'] = le.fit_transform(X['citric_acid'])\n",
        "X['residual_sugar'] = le.fit_transform(X['residual_sugar'])\n",
        "X['chlorides'] = le.fit_transform(X['chlorides'])\n",
        "X['free_sulfur_dioxide'] = le.fit_transform(X['free_sulfur_dioxide'])\n",
        "X['total_sulfur_dioxide'] = le.fit_transform(X['total_sulfur_dioxide'])\n",
        "X['density'] = le.fit_transform(X['density'])\n",
        "X['pH'] = le.fit_transform(X['pH'])\n",
        "X['sulphates'] = le.fit_transform(X['sulphates'])\n",
        "X['alcohol'] = le.fit_transform(X['alcohol'])"
      ],
      "metadata": {
        "id": "ddFHI_r7EcDk"
      },
      "execution_count": 10,
      "outputs": []
    },
    {
      "cell_type": "code",
      "source": [
        "X.dtypes"
      ],
      "metadata": {
        "colab": {
          "base_uri": "https://localhost:8080/"
        },
        "id": "J3ixLurc-ZN8",
        "outputId": "17deeef6-884b-43ed-df68-c2570888537f"
      },
      "execution_count": 11,
      "outputs": [
        {
          "output_type": "execute_result",
          "data": {
            "text/plain": [
              "fixed_acidity           int64\n",
              "volatile_acidity        int64\n",
              "citric_acid             int64\n",
              "residual_sugar          int64\n",
              "chlorides               int64\n",
              "free_sulfur_dioxide     int64\n",
              "total_sulfur_dioxide    int64\n",
              "density                 int64\n",
              "pH                      int64\n",
              "sulphates               int64\n",
              "alcohol                 int64\n",
              "dtype: object"
            ]
          },
          "metadata": {},
          "execution_count": 11
        }
      ]
    },
    {
      "cell_type": "code",
      "source": [
        "X.head"
      ],
      "metadata": {
        "colab": {
          "base_uri": "https://localhost:8080/"
        },
        "id": "LtEqmuxm-uaj",
        "outputId": "24c51ea9-7fb4-495a-ce0e-4af2c2901270"
      },
      "execution_count": 12,
      "outputs": [
        {
          "output_type": "execute_result",
          "data": {
            "text/plain": [
              "<bound method NDFrame.head of       fixed_acidity  volatile_acidity  citric_acid  residual_sugar  chlorides  \\\n",
              "0                31                36           36             302         34   \n",
              "1                23                42           34              17         38   \n",
              "2                43                38           40             101         39   \n",
              "3                34                28           32             128         47   \n",
              "4                34                28           32             128         47   \n",
              "...             ...               ...          ...             ...        ...   \n",
              "4893             22                24           29              17         28   \n",
              "4894             27                46           36             120         36   \n",
              "4895             26                30           19               9         30   \n",
              "4896             14                40           30               7         11   \n",
              "4897             19                24           38               2          9   \n",
              "\n",
              "      free_sulfur_dioxide  total_sulfur_dioxide  density  pH  sulphates  \\\n",
              "0                      57                   146      878  23         22   \n",
              "1                      13                   106      471  53         26   \n",
              "2                      33                    69      560  49         21   \n",
              "3                      59                   163      601  42         17   \n",
              "4                      59                   163      601  42         17   \n",
              "...                   ...                   ...      ...  ..        ...   \n",
              "4893                   26                    64      224  50         27   \n",
              "4894                   73                   144      544  38         23   \n",
              "4895                   33                    83      347  22         23   \n",
              "4896                   21                    82       29  57         15   \n",
              "4897                   23                    70       74  49          9   \n",
              "\n",
              "      alcohol  \n",
              "0           5  \n",
              "1          12  \n",
              "2          24  \n",
              "3          21  \n",
              "4          21  \n",
              "...       ...  \n",
              "4893       47  \n",
              "4894       15  \n",
              "4895       11  \n",
              "4896       84  \n",
              "4897       65  \n",
              "\n",
              "[4898 rows x 11 columns]>"
            ]
          },
          "metadata": {},
          "execution_count": 12
        }
      ]
    },
    {
      "cell_type": "code",
      "source": [
        "# Create a StandardScaler instance\n",
        "scaler = StandardScaler()\n",
        "\n",
        "# Fit and transform the data\n",
        "X_normalized = scaler.fit_transform(X)"
      ],
      "metadata": {
        "id": "sKiyRZ6n-ztG"
      },
      "execution_count": 13,
      "outputs": []
    },
    {
      "cell_type": "code",
      "source": [
        "from sklearn.model_selection import train_test_split\n",
        "\n",
        "# Split the data into training and testing sets\n",
        "X_train, X_test, y_train, y_test = train_test_split(X_normalized, y, test_size=0.2, random_state=42)"
      ],
      "metadata": {
        "id": "Nc2Xz1ln-1p6"
      },
      "execution_count": 14,
      "outputs": []
    },
    {
      "cell_type": "code",
      "source": [
        "from sklearn.tree import DecisionTreeClassifier\n",
        "\n",
        "# Create a DecisionTreeClassifier instance\n",
        "decision_tree = DecisionTreeClassifier(random_state=42)\n",
        "\n",
        "# Fit the model to the training data\n",
        "decision_tree.fit(X_train, y_train)\n"
      ],
      "metadata": {
        "colab": {
          "base_uri": "https://localhost:8080/",
          "height": 75
        },
        "id": "LpSTy7ue-4X7",
        "outputId": "e99d012a-b923-4f01-897f-bb4921a2de6c"
      },
      "execution_count": 15,
      "outputs": [
        {
          "output_type": "execute_result",
          "data": {
            "text/plain": [
              "DecisionTreeClassifier(random_state=42)"
            ],
            "text/html": [
              "<style>#sk-container-id-1 {color: black;background-color: white;}#sk-container-id-1 pre{padding: 0;}#sk-container-id-1 div.sk-toggleable {background-color: white;}#sk-container-id-1 label.sk-toggleable__label {cursor: pointer;display: block;width: 100%;margin-bottom: 0;padding: 0.3em;box-sizing: border-box;text-align: center;}#sk-container-id-1 label.sk-toggleable__label-arrow:before {content: \"▸\";float: left;margin-right: 0.25em;color: #696969;}#sk-container-id-1 label.sk-toggleable__label-arrow:hover:before {color: black;}#sk-container-id-1 div.sk-estimator:hover label.sk-toggleable__label-arrow:before {color: black;}#sk-container-id-1 div.sk-toggleable__content {max-height: 0;max-width: 0;overflow: hidden;text-align: left;background-color: #f0f8ff;}#sk-container-id-1 div.sk-toggleable__content pre {margin: 0.2em;color: black;border-radius: 0.25em;background-color: #f0f8ff;}#sk-container-id-1 input.sk-toggleable__control:checked~div.sk-toggleable__content {max-height: 200px;max-width: 100%;overflow: auto;}#sk-container-id-1 input.sk-toggleable__control:checked~label.sk-toggleable__label-arrow:before {content: \"▾\";}#sk-container-id-1 div.sk-estimator input.sk-toggleable__control:checked~label.sk-toggleable__label {background-color: #d4ebff;}#sk-container-id-1 div.sk-label input.sk-toggleable__control:checked~label.sk-toggleable__label {background-color: #d4ebff;}#sk-container-id-1 input.sk-hidden--visually {border: 0;clip: rect(1px 1px 1px 1px);clip: rect(1px, 1px, 1px, 1px);height: 1px;margin: -1px;overflow: hidden;padding: 0;position: absolute;width: 1px;}#sk-container-id-1 div.sk-estimator {font-family: monospace;background-color: #f0f8ff;border: 1px dotted black;border-radius: 0.25em;box-sizing: border-box;margin-bottom: 0.5em;}#sk-container-id-1 div.sk-estimator:hover {background-color: #d4ebff;}#sk-container-id-1 div.sk-parallel-item::after {content: \"\";width: 100%;border-bottom: 1px solid gray;flex-grow: 1;}#sk-container-id-1 div.sk-label:hover label.sk-toggleable__label {background-color: #d4ebff;}#sk-container-id-1 div.sk-serial::before {content: \"\";position: absolute;border-left: 1px solid gray;box-sizing: border-box;top: 0;bottom: 0;left: 50%;z-index: 0;}#sk-container-id-1 div.sk-serial {display: flex;flex-direction: column;align-items: center;background-color: white;padding-right: 0.2em;padding-left: 0.2em;position: relative;}#sk-container-id-1 div.sk-item {position: relative;z-index: 1;}#sk-container-id-1 div.sk-parallel {display: flex;align-items: stretch;justify-content: center;background-color: white;position: relative;}#sk-container-id-1 div.sk-item::before, #sk-container-id-1 div.sk-parallel-item::before {content: \"\";position: absolute;border-left: 1px solid gray;box-sizing: border-box;top: 0;bottom: 0;left: 50%;z-index: -1;}#sk-container-id-1 div.sk-parallel-item {display: flex;flex-direction: column;z-index: 1;position: relative;background-color: white;}#sk-container-id-1 div.sk-parallel-item:first-child::after {align-self: flex-end;width: 50%;}#sk-container-id-1 div.sk-parallel-item:last-child::after {align-self: flex-start;width: 50%;}#sk-container-id-1 div.sk-parallel-item:only-child::after {width: 0;}#sk-container-id-1 div.sk-dashed-wrapped {border: 1px dashed gray;margin: 0 0.4em 0.5em 0.4em;box-sizing: border-box;padding-bottom: 0.4em;background-color: white;}#sk-container-id-1 div.sk-label label {font-family: monospace;font-weight: bold;display: inline-block;line-height: 1.2em;}#sk-container-id-1 div.sk-label-container {text-align: center;}#sk-container-id-1 div.sk-container {/* jupyter's `normalize.less` sets `[hidden] { display: none; }` but bootstrap.min.css set `[hidden] { display: none !important; }` so we also need the `!important` here to be able to override the default hidden behavior on the sphinx rendered scikit-learn.org. See: https://github.com/scikit-learn/scikit-learn/issues/21755 */display: inline-block !important;position: relative;}#sk-container-id-1 div.sk-text-repr-fallback {display: none;}</style><div id=\"sk-container-id-1\" class=\"sk-top-container\"><div class=\"sk-text-repr-fallback\"><pre>DecisionTreeClassifier(random_state=42)</pre><b>In a Jupyter environment, please rerun this cell to show the HTML representation or trust the notebook. <br />On GitHub, the HTML representation is unable to render, please try loading this page with nbviewer.org.</b></div><div class=\"sk-container\" hidden><div class=\"sk-item\"><div class=\"sk-estimator sk-toggleable\"><input class=\"sk-toggleable__control sk-hidden--visually\" id=\"sk-estimator-id-1\" type=\"checkbox\" checked><label for=\"sk-estimator-id-1\" class=\"sk-toggleable__label sk-toggleable__label-arrow\">DecisionTreeClassifier</label><div class=\"sk-toggleable__content\"><pre>DecisionTreeClassifier(random_state=42)</pre></div></div></div></div></div>"
            ]
          },
          "metadata": {},
          "execution_count": 15
        }
      ]
    },
    {
      "cell_type": "code",
      "source": [
        "# Make predictions on the testing data\n",
        "y_pred = decision_tree.predict(X_test)"
      ],
      "metadata": {
        "id": "xCZAVfss-6oh"
      },
      "execution_count": 20,
      "outputs": []
    },
    {
      "cell_type": "code",
      "source": [
        "from sklearn.metrics import confusion_matrix\n",
        "\n",
        "# Calculate the confusion matrix\n",
        "confusion = confusion_matrix(y_test, y_pred)\n",
        "\n",
        "print(\"Confusion Matrix:\")\n",
        "print(confusion)\n"
      ],
      "metadata": {
        "colab": {
          "base_uri": "https://localhost:8080/"
        },
        "id": "VdhAK_lm--gB",
        "outputId": "e3851b4a-b2ba-4db0-b423-46ec833d3b28"
      },
      "execution_count": 21,
      "outputs": [
        {
          "output_type": "stream",
          "name": "stdout",
          "text": [
            "Confusion Matrix:\n",
            "[[  0   1   2   2   0   0   0]\n",
            " [  1   8   6   7   2   1   0]\n",
            " [  0   8 186  81  10   6   0]\n",
            " [  1  11  82 273  51  13   1]\n",
            " [  0   2   5  57 111  17   0]\n",
            " [  0   0   0   9   8  18   0]\n",
            " [  0   0   0   0   0   0   0]]\n"
          ]
        }
      ]
    },
    {
      "cell_type": "code",
      "source": [
        "from sklearn.metrics import accuracy_score\n",
        "\n",
        "# Calculate accuracy on training data\n",
        "y_train_pred = decision_tree.predict(X_train)\n",
        "training_accuracy = accuracy_score(y_train, y_train_pred)\n",
        "\n",
        "# Calculate accuracy on testing data\n",
        "testing_accuracy = accuracy_score(y_test, y_pred)\n",
        "\n",
        "print(f\"Training Accuracy: {training_accuracy:.2f}\")\n",
        "print(f\"Testing Accuracy: {testing_accuracy:.2f}\")"
      ],
      "metadata": {
        "colab": {
          "base_uri": "https://localhost:8080/"
        },
        "id": "_WHBuk6f_CN8",
        "outputId": "cf527bad-6de3-4a57-9687-fab230d6b82b"
      },
      "execution_count": 22,
      "outputs": [
        {
          "output_type": "stream",
          "name": "stdout",
          "text": [
            "Training Accuracy: 1.00\n",
            "Testing Accuracy: 0.61\n"
          ]
        }
      ]
    }
  ]
}